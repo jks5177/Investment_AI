{
 "cells": [
  {
   "cell_type": "code",
   "execution_count": null,
   "id": "8a4cdde0",
   "metadata": {},
   "outputs": [],
   "source": [
    "from function import hankyung_data"
   ]
  },
  {
   "cell_type": "markdown",
   "id": "2e51dc85",
   "metadata": {},
   "source": [
    "## 데이터 다운로드 후 OCR 데이터 확인"
   ]
  },
  {
   "cell_type": "code",
   "execution_count": null,
   "id": "47478995",
   "metadata": {},
   "outputs": [],
   "source": [
    "# 인터넷 pdf 파일 저장\n",
    "import requests\n",
    "URL = \"https://markets.hankyung.com/pdf/2022/06/9f57b436d1977954380a7ee69c552170\"\n",
    "  \n",
    "file = requests.get(URL, stream = True)\n",
    "  \n",
    "with open(\"Python.pdf\",\"wb\") as pdf:\n",
    "    for chunk in file.iter_content(chunk_size=1024):\n",
    "        if chunk:\n",
    "            pdf.write(chunk)"
   ]
  }
 ],
 "metadata": {
  "kernelspec": {
   "display_name": "Python 3 (ipykernel)",
   "language": "python",
   "name": "python3"
  },
  "language_info": {
   "codemirror_mode": {
    "name": "ipython",
    "version": 3
   },
   "file_extension": ".py",
   "mimetype": "text/x-python",
   "name": "python",
   "nbconvert_exporter": "python",
   "pygments_lexer": "ipython3",
   "version": "3.9.7"
  }
 },
 "nbformat": 4,
 "nbformat_minor": 5
}

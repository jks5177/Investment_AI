{
 "cells": [
  {
   "cell_type": "code",
   "execution_count": 1,
   "id": "5a0f586d",
   "metadata": {},
   "outputs": [],
   "source": [
    "import requests\n",
    "import pandas as pd\n",
    "from bs4 import BeautifulSoup"
   ]
  },
  {
   "cell_type": "code",
   "execution_count": 2,
   "id": "84569792",
   "metadata": {},
   "outputs": [],
   "source": [
    "# 함수로 변환\n",
    "def hankyung(sdate, edate) :\n",
    "    now_page=1\n",
    "    url = f'http://consensus.hankyung.com/apps.analysis/analysis.list?&sdate={sdate}&edate={edate}&now_page={now_page}'\n",
    "    response = requests.get(url, headers={'User-Agent':'Gils'})\n",
    "    \n",
    "    dom = BeautifulSoup(response.content.decode('euc-kr', 'replace'), 'html.parser')\n",
    "    \n",
    "    end_page = dom.select_one('#contents > div.paging > a.btn.last').get('href')\n",
    "    end_page = int(end_page.split('now_page=')[-1])\n",
    "    \n",
    "    dfs = []\n",
    "    \n",
    "    for i in range(1, end_page+1) :\n",
    "        url = f'http://consensus.hankyung.com/apps.analysis/analysis.list?&sdate={sdate}&edate={edate}&now_page={i}'\n",
    "        response = requests.get(url, headers={'User-Agent':'Gils'})\n",
    "\n",
    "        dom = BeautifulSoup(response.content.decode('euc-kr', 'replace'), 'html.parser')\n",
    "        \n",
    "        elements = dom.select('#contents > div.table_style01 > table > tbody > tr')\n",
    "\n",
    "        datas = [{\n",
    "            'date' : element.select('td')[0].text,\n",
    "            'category' : element.select('td')[1].text,\n",
    "            'title' : element.select_one('td.text_l > a').text,\n",
    "            'writeCompany' : element.select('td')[4].text, \n",
    "            'content' : 'http://consensus.hankyung.com'+element.select_one('td.text_l > a').get('href'),} for element in elements]\n",
    "        \n",
    "        dfs.append(pd.DataFrame(datas))\n",
    "        \n",
    "    return pd.concat(dfs, ignore_index=True)"
   ]
  },
  {
   "cell_type": "code",
   "execution_count": 3,
   "id": "b56b3b25",
   "metadata": {},
   "outputs": [],
   "source": [
    "df = hankyung('2022-03-03', '2022-03-04')"
   ]
  },
  {
   "cell_type": "code",
   "execution_count": 4,
   "id": "71728ad5",
   "metadata": {
    "scrolled": false
   },
   "outputs": [
    {
     "data": {
      "text/html": [
       "<div>\n",
       "<style scoped>\n",
       "    .dataframe tbody tr th:only-of-type {\n",
       "        vertical-align: middle;\n",
       "    }\n",
       "\n",
       "    .dataframe tbody tr th {\n",
       "        vertical-align: top;\n",
       "    }\n",
       "\n",
       "    .dataframe thead th {\n",
       "        text-align: right;\n",
       "    }\n",
       "</style>\n",
       "<table border=\"1\" class=\"dataframe\">\n",
       "  <thead>\n",
       "    <tr style=\"text-align: right;\">\n",
       "      <th></th>\n",
       "      <th>date</th>\n",
       "      <th>category</th>\n",
       "      <th>title</th>\n",
       "      <th>writeCompany</th>\n",
       "      <th>content</th>\n",
       "    </tr>\n",
       "  </thead>\n",
       "  <tbody>\n",
       "    <tr>\n",
       "      <th>0</th>\n",
       "      <td>2022-03-04</td>\n",
       "      <td>시장</td>\n",
       "      <td>한화 주간전략</td>\n",
       "      <td>한화투자증권</td>\n",
       "      <td>http://consensus.hankyung.com/apps.analysis/an...</td>\n",
       "    </tr>\n",
       "    <tr>\n",
       "      <th>1</th>\n",
       "      <td>2022-03-04</td>\n",
       "      <td>산업</td>\n",
       "      <td>항공-해외 Top tier 방산업체 대비 높은 매출성장세를 이어간 4...</td>\n",
       "      <td>한화투자증권</td>\n",
       "      <td>http://consensus.hankyung.com/apps.analysis/an...</td>\n",
       "    </tr>\n",
       "    <tr>\n",
       "      <th>2</th>\n",
       "      <td>2022-03-04</td>\n",
       "      <td>산업</td>\n",
       "      <td>은행-1 월 은행 금리 : Base 금리의 시작점이 높다</td>\n",
       "      <td>한화투자증권</td>\n",
       "      <td>http://consensus.hankyung.com/apps.analysis/an...</td>\n",
       "    </tr>\n",
       "    <tr>\n",
       "      <th>3</th>\n",
       "      <td>2022-03-04</td>\n",
       "      <td>기업</td>\n",
       "      <td>BGF(027410) 그룹사 가치가 상승하기 시작</td>\n",
       "      <td>한화투자증권</td>\n",
       "      <td>http://consensus.hankyung.com/apps.analysis/an...</td>\n",
       "    </tr>\n",
       "    <tr>\n",
       "      <th>4</th>\n",
       "      <td>2022-03-04</td>\n",
       "      <td>기업</td>\n",
       "      <td>기아(000270) CEO Investor Day 후기 : 전기차 목표 상향과 실적...</td>\n",
       "      <td>한화투자증권</td>\n",
       "      <td>http://consensus.hankyung.com/apps.analysis/an...</td>\n",
       "    </tr>\n",
       "  </tbody>\n",
       "</table>\n",
       "</div>"
      ],
      "text/plain": [
       "         date category                                              title  \\\n",
       "0  2022-03-04       시장                                            한화 주간전략   \n",
       "1  2022-03-04       산업          항공-해외 Top tier 방산업체 대비 높은 매출성장세를 이어간 4...   \n",
       "2  2022-03-04       산업                    은행-1 월 은행 금리 : Base 금리의 시작점이 높다   \n",
       "3  2022-03-04       기업                        BGF(027410) 그룹사 가치가 상승하기 시작   \n",
       "4  2022-03-04       기업  기아(000270) CEO Investor Day 후기 : 전기차 목표 상향과 실적...   \n",
       "\n",
       "  writeCompany                                            content  \n",
       "0       한화투자증권  http://consensus.hankyung.com/apps.analysis/an...  \n",
       "1       한화투자증권  http://consensus.hankyung.com/apps.analysis/an...  \n",
       "2       한화투자증권  http://consensus.hankyung.com/apps.analysis/an...  \n",
       "3       한화투자증권  http://consensus.hankyung.com/apps.analysis/an...  \n",
       "4       한화투자증권  http://consensus.hankyung.com/apps.analysis/an...  "
      ]
     },
     "execution_count": 4,
     "metadata": {},
     "output_type": "execute_result"
    }
   ],
   "source": [
    "df.head()"
   ]
  },
  {
   "cell_type": "code",
   "execution_count": 5,
   "id": "ea3c3464",
   "metadata": {},
   "outputs": [
    {
     "data": {
      "text/plain": [
       "'http://consensus.hankyung.com/apps.analysis/analysis.downpdf?report_idx=606147'"
      ]
     },
     "execution_count": 5,
     "metadata": {},
     "output_type": "execute_result"
    }
   ],
   "source": [
    "df['content'][0]"
   ]
  },
  {
   "cell_type": "code",
   "execution_count": 30,
   "id": "45e7c100",
   "metadata": {},
   "outputs": [
    {
     "ename": "AttributeError",
     "evalue": "'HTTPResponse' object has no attribute 'row'",
     "output_type": "error",
     "traceback": [
      "\u001b[1;31m---------------------------------------------------------------------------\u001b[0m",
      "\u001b[1;31mAttributeError\u001b[0m                            Traceback (most recent call last)",
      "\u001b[1;32m~\\AppData\\Local\\Temp/ipykernel_34924/2925929663.py\u001b[0m in \u001b[0;36m<module>\u001b[1;34m\u001b[0m\n\u001b[0;32m      1\u001b[0m \u001b[1;31m# pdf 파일 다운로드\u001b[0m\u001b[1;33m\u001b[0m\u001b[1;33m\u001b[0m\u001b[0m\n\u001b[0;32m      2\u001b[0m \u001b[0mfile\u001b[0m \u001b[1;33m=\u001b[0m \u001b[0mrequests\u001b[0m\u001b[1;33m.\u001b[0m\u001b[0mget\u001b[0m\u001b[1;33m(\u001b[0m\u001b[0mdf\u001b[0m\u001b[1;33m[\u001b[0m\u001b[1;34m'content'\u001b[0m\u001b[1;33m]\u001b[0m\u001b[1;33m[\u001b[0m\u001b[1;36m0\u001b[0m\u001b[1;33m]\u001b[0m\u001b[1;33m,\u001b[0m \u001b[0mstream\u001b[0m \u001b[1;33m=\u001b[0m \u001b[1;32mTrue\u001b[0m\u001b[1;33m)\u001b[0m\u001b[1;33m\u001b[0m\u001b[1;33m\u001b[0m\u001b[0m\n\u001b[1;32m----> 3\u001b[1;33m \u001b[0mfile\u001b[0m\u001b[1;33m.\u001b[0m\u001b[0mraw\u001b[0m\u001b[1;33m.\u001b[0m\u001b[0mrow\u001b[0m\u001b[1;33m(\u001b[0m\u001b[1;33m)\u001b[0m\u001b[1;33m\u001b[0m\u001b[1;33m\u001b[0m\u001b[0m\n\u001b[0m",
      "\u001b[1;31mAttributeError\u001b[0m: 'HTTPResponse' object has no attribute 'row'"
     ]
    }
   ],
   "source": [
    "# pdf 파일 다운로드\n",
    "file = requests.get(df['content'][0], stream = True)\n"
   ]
  },
  {
   "cell_type": "code",
   "execution_count": 23,
   "id": "a0b1d112",
   "metadata": {},
   "outputs": [
    {
     "ename": "PDFPageCountError",
     "evalue": "Unable to get page count.\nI/O Error: Couldn't open 'nameToUnicode' file 'D:\\<b4><eb><c7><d0>\\kt-aivle\\Investment_AI\\poppler-22.01.0\\share\\poppler\\nameToUnicode\\Bulgarian'\r\nI/O Error: Couldn't open 'nameToUnicode' file 'D:\\<b4><eb><c7><d0>\\kt-aivle\\Investment_AI\\poppler-22.01.0\\share\\poppler\\nameToUnicode\\Greek'\r\nI/O Error: Couldn't open 'nameToUnicode' file 'D:\\<b4><eb><c7><d0>\\kt-aivle\\Investment_AI\\poppler-22.01.0\\share\\poppler\\nameToUnicode\\Thai'\r\nSyntax Error: Document stream is empty\r\n",
     "output_type": "error",
     "traceback": [
      "\u001b[1;31m---------------------------------------------------------------------------\u001b[0m",
      "\u001b[1;31mValueError\u001b[0m                                Traceback (most recent call last)",
      "\u001b[1;32m~\\anaconda3\\lib\\site-packages\\pdf2image\\pdf2image.py\u001b[0m in \u001b[0;36mpdfinfo_from_path\u001b[1;34m(pdf_path, userpw, poppler_path, rawdates, timeout)\u001b[0m\n\u001b[0;32m    478\u001b[0m         \u001b[1;32mif\u001b[0m \u001b[1;34m\"Pages\"\u001b[0m \u001b[1;32mnot\u001b[0m \u001b[1;32min\u001b[0m \u001b[0md\u001b[0m\u001b[1;33m:\u001b[0m\u001b[1;33m\u001b[0m\u001b[1;33m\u001b[0m\u001b[0m\n\u001b[1;32m--> 479\u001b[1;33m             \u001b[1;32mraise\u001b[0m \u001b[0mValueError\u001b[0m\u001b[1;33m\u001b[0m\u001b[1;33m\u001b[0m\u001b[0m\n\u001b[0m\u001b[0;32m    480\u001b[0m \u001b[1;33m\u001b[0m\u001b[0m\n",
      "\u001b[1;31mValueError\u001b[0m: ",
      "\nDuring handling of the above exception, another exception occurred:\n",
      "\u001b[1;31mPDFPageCountError\u001b[0m                         Traceback (most recent call last)",
      "\u001b[1;32m~\\AppData\\Local\\Temp/ipykernel_34924/3992621676.py\u001b[0m in \u001b[0;36m<module>\u001b[1;34m\u001b[0m\n\u001b[0;32m      6\u001b[0m \u001b[1;31m# images = convert_from_path(df['content'][0])\u001b[0m\u001b[1;33m\u001b[0m\u001b[1;33m\u001b[0m\u001b[0m\n\u001b[0;32m      7\u001b[0m \u001b[0mpdf\u001b[0m \u001b[1;33m=\u001b[0m \u001b[0mrequests\u001b[0m\u001b[1;33m.\u001b[0m\u001b[0mget\u001b[0m\u001b[1;33m(\u001b[0m\u001b[0mdf\u001b[0m\u001b[1;33m[\u001b[0m\u001b[1;34m'content'\u001b[0m\u001b[1;33m]\u001b[0m\u001b[1;33m[\u001b[0m\u001b[1;36m0\u001b[0m\u001b[1;33m]\u001b[0m\u001b[1;33m)\u001b[0m\u001b[1;33m\u001b[0m\u001b[1;33m\u001b[0m\u001b[0m\n\u001b[1;32m----> 8\u001b[1;33m \u001b[0mimages\u001b[0m \u001b[1;33m=\u001b[0m \u001b[0mconvert_from_bytes\u001b[0m\u001b[1;33m(\u001b[0m\u001b[0mpdf\u001b[0m\u001b[1;33m.\u001b[0m\u001b[0mcontent\u001b[0m\u001b[1;33m)\u001b[0m\u001b[1;33m\u001b[0m\u001b[1;33m\u001b[0m\u001b[0m\n\u001b[0m\u001b[0;32m      9\u001b[0m \u001b[1;33m\u001b[0m\u001b[0m\n\u001b[0;32m     10\u001b[0m \u001b[1;32mfor\u001b[0m \u001b[0mi\u001b[0m\u001b[1;33m,\u001b[0m \u001b[0mimage\u001b[0m \u001b[1;32min\u001b[0m \u001b[0menumerate\u001b[0m\u001b[1;33m(\u001b[0m\u001b[0mimages\u001b[0m\u001b[1;33m)\u001b[0m \u001b[1;33m:\u001b[0m\u001b[1;33m\u001b[0m\u001b[1;33m\u001b[0m\u001b[0m\n",
      "\u001b[1;32m~\\anaconda3\\lib\\site-packages\\pdf2image\\pdf2image.py\u001b[0m in \u001b[0;36mconvert_from_bytes\u001b[1;34m(pdf_file, dpi, output_folder, first_page, last_page, fmt, jpegopt, thread_count, userpw, use_cropbox, strict, transparent, single_file, output_file, poppler_path, grayscale, size, paths_only, use_pdftocairo, timeout, hide_annotations)\u001b[0m\n\u001b[0;32m    281\u001b[0m             \u001b[0mf\u001b[0m\u001b[1;33m.\u001b[0m\u001b[0mwrite\u001b[0m\u001b[1;33m(\u001b[0m\u001b[0mpdf_file\u001b[0m\u001b[1;33m)\u001b[0m\u001b[1;33m\u001b[0m\u001b[1;33m\u001b[0m\u001b[0m\n\u001b[0;32m    282\u001b[0m             \u001b[0mf\u001b[0m\u001b[1;33m.\u001b[0m\u001b[0mflush\u001b[0m\u001b[1;33m(\u001b[0m\u001b[1;33m)\u001b[0m\u001b[1;33m\u001b[0m\u001b[1;33m\u001b[0m\u001b[0m\n\u001b[1;32m--> 283\u001b[1;33m             return convert_from_path(\n\u001b[0m\u001b[0;32m    284\u001b[0m                 \u001b[0mf\u001b[0m\u001b[1;33m.\u001b[0m\u001b[0mname\u001b[0m\u001b[1;33m,\u001b[0m\u001b[1;33m\u001b[0m\u001b[1;33m\u001b[0m\u001b[0m\n\u001b[0;32m    285\u001b[0m                 \u001b[0mdpi\u001b[0m\u001b[1;33m=\u001b[0m\u001b[0mdpi\u001b[0m\u001b[1;33m,\u001b[0m\u001b[1;33m\u001b[0m\u001b[1;33m\u001b[0m\u001b[0m\n",
      "\u001b[1;32m~\\anaconda3\\lib\\site-packages\\pdf2image\\pdf2image.py\u001b[0m in \u001b[0;36mconvert_from_path\u001b[1;34m(pdf_path, dpi, output_folder, first_page, last_page, fmt, jpegopt, thread_count, userpw, use_cropbox, strict, transparent, single_file, output_file, poppler_path, grayscale, size, paths_only, use_pdftocairo, timeout, hide_annotations)\u001b[0m\n\u001b[0;32m     96\u001b[0m         \u001b[0mpoppler_path\u001b[0m \u001b[1;33m=\u001b[0m \u001b[0mpoppler_path\u001b[0m\u001b[1;33m.\u001b[0m\u001b[0mas_posix\u001b[0m\u001b[1;33m(\u001b[0m\u001b[1;33m)\u001b[0m\u001b[1;33m\u001b[0m\u001b[1;33m\u001b[0m\u001b[0m\n\u001b[0;32m     97\u001b[0m \u001b[1;33m\u001b[0m\u001b[0m\n\u001b[1;32m---> 98\u001b[1;33m     \u001b[0mpage_count\u001b[0m \u001b[1;33m=\u001b[0m \u001b[0mpdfinfo_from_path\u001b[0m\u001b[1;33m(\u001b[0m\u001b[0mpdf_path\u001b[0m\u001b[1;33m,\u001b[0m \u001b[0muserpw\u001b[0m\u001b[1;33m,\u001b[0m \u001b[0mpoppler_path\u001b[0m\u001b[1;33m=\u001b[0m\u001b[0mpoppler_path\u001b[0m\u001b[1;33m)\u001b[0m\u001b[1;33m[\u001b[0m\u001b[1;34m\"Pages\"\u001b[0m\u001b[1;33m]\u001b[0m\u001b[1;33m\u001b[0m\u001b[1;33m\u001b[0m\u001b[0m\n\u001b[0m\u001b[0;32m     99\u001b[0m \u001b[1;33m\u001b[0m\u001b[0m\n\u001b[0;32m    100\u001b[0m     \u001b[1;31m# We start by getting the output format, the buffer processing function and if we need pdftocairo\u001b[0m\u001b[1;33m\u001b[0m\u001b[1;33m\u001b[0m\u001b[0m\n",
      "\u001b[1;32m~\\anaconda3\\lib\\site-packages\\pdf2image\\pdf2image.py\u001b[0m in \u001b[0;36mpdfinfo_from_path\u001b[1;34m(pdf_path, userpw, poppler_path, rawdates, timeout)\u001b[0m\n\u001b[0;32m    486\u001b[0m         )\n\u001b[0;32m    487\u001b[0m     \u001b[1;32mexcept\u001b[0m \u001b[0mValueError\u001b[0m\u001b[1;33m:\u001b[0m\u001b[1;33m\u001b[0m\u001b[1;33m\u001b[0m\u001b[0m\n\u001b[1;32m--> 488\u001b[1;33m         raise PDFPageCountError(\n\u001b[0m\u001b[0;32m    489\u001b[0m             \u001b[1;34m\"Unable to get page count.\\n%s\"\u001b[0m \u001b[1;33m%\u001b[0m \u001b[0merr\u001b[0m\u001b[1;33m.\u001b[0m\u001b[0mdecode\u001b[0m\u001b[1;33m(\u001b[0m\u001b[1;34m\"utf8\"\u001b[0m\u001b[1;33m,\u001b[0m \u001b[1;34m\"ignore\"\u001b[0m\u001b[1;33m)\u001b[0m\u001b[1;33m\u001b[0m\u001b[1;33m\u001b[0m\u001b[0m\n\u001b[0;32m    490\u001b[0m         )\n",
      "\u001b[1;31mPDFPageCountError\u001b[0m: Unable to get page count.\nI/O Error: Couldn't open 'nameToUnicode' file 'D:\\<b4><eb><c7><d0>\\kt-aivle\\Investment_AI\\poppler-22.01.0\\share\\poppler\\nameToUnicode\\Bulgarian'\r\nI/O Error: Couldn't open 'nameToUnicode' file 'D:\\<b4><eb><c7><d0>\\kt-aivle\\Investment_AI\\poppler-22.01.0\\share\\poppler\\nameToUnicode\\Greek'\r\nI/O Error: Couldn't open 'nameToUnicode' file 'D:\\<b4><eb><c7><d0>\\kt-aivle\\Investment_AI\\poppler-22.01.0\\share\\poppler\\nameToUnicode\\Thai'\r\nSyntax Error: Document stream is empty\r\n"
     ]
    }
   ],
   "source": [
    "# pdf를 image로 변환\n",
    "from pdf2image import convert_from_bytes\n",
    "\n",
    "# pdf_path = 'pdf file path'\n",
    "\n",
    "# images = convert_from_path(df['content'][0])\n",
    "pdf = requests.get(df['content'][0])\n",
    "images = convert_from_bytes(pdf.content)\n",
    "\n",
    "for i, image in enumerate(images) :\n",
    "    filename = 'tmp/'+pdf_path+'_page_'+str(i+1)+'.jpg'\n",
    "    image.save(filename, 'JPEG')"
   ]
  },
  {
   "cell_type": "code",
   "execution_count": 2,
   "id": "d1d4f6bb",
   "metadata": {},
   "outputs": [],
   "source": [
    "# image read using tesseract\n",
    "import pytesseract\n",
    "from PIL import Image\n",
    "\n",
    "image_path = 'pdf image file path'\n",
    "\n",
    "# file folder에서 image file로 list 만들기\n",
    "image_list = []\n",
    "for i in file_path :\n",
    "    if i.endwith('.jpg') :\n",
    "        image_list.aopend(i)\n",
    "        \n",
    "# image_list to text\n",
    "text = []\n",
    "config = ('-l kor+eng --oem 3 --psm 11')\n",
    "for i in image_list :\n",
    "    text.append(str(pytesseract.image_to_string(Image.open(i), config=config)))"
   ]
  },
  {
   "cell_type": "code",
   "execution_count": null,
   "id": "cf20fbf0",
   "metadata": {},
   "outputs": [],
   "source": []
  }
 ],
 "metadata": {
  "kernelspec": {
   "display_name": "Python 3 (ipykernel)",
   "language": "python",
   "name": "python3"
  },
  "language_info": {
   "codemirror_mode": {
    "name": "ipython",
    "version": 3
   },
   "file_extension": ".py",
   "mimetype": "text/x-python",
   "name": "python",
   "nbconvert_exporter": "python",
   "pygments_lexer": "ipython3",
   "version": "3.9.7"
  }
 },
 "nbformat": 4,
 "nbformat_minor": 5
}

{
 "cells": [
  {
   "cell_type": "code",
   "execution_count": 1,
   "id": "3cd33ee8",
   "metadata": {},
   "outputs": [],
   "source": [
    "import requests\n",
    "import pandas as pd\n",
    "from bs4 import BeautifulSoup"
   ]
  },
  {
   "cell_type": "markdown",
   "id": "d4aac06a",
   "metadata": {},
   "source": [
    "## 한경 컨센서스 리포트 크롤링\n"
   ]
  },
  {
   "cell_type": "code",
   "execution_count": 2,
   "id": "fd34b1e2",
   "metadata": {},
   "outputs": [],
   "source": [
    "fromDate = '2022-05-21'\n",
    "toDate = '2022-06-21'\n",
    "page = 2\n",
    "reportType='ALL'\n",
    "gradeCode='ALL'\n",
    "changePrices='ALL'\n",
    "searchType='ALL'\n",
    "url = f'https://markets.hankyung.com/api/v1/consensus/search/report?page={page}&reportType={reportType}&fromDate={fromDate}&toDate={toDate}&gradeCode={gradeCode}&changePrices={changePrices}&searchType={searchType}'"
   ]
  },
  {
   "cell_type": "code",
   "execution_count": 3,
   "id": "7311e0c1",
   "metadata": {},
   "outputs": [
    {
     "data": {
      "text/plain": [
       "<Response [200]>"
      ]
     },
     "execution_count": 3,
     "metadata": {},
     "output_type": "execute_result"
    }
   ],
   "source": [
    "response = requests.get(url)\n",
    "response"
   ]
  },
  {
   "cell_type": "code",
   "execution_count": 4,
   "id": "52f23937",
   "metadata": {},
   "outputs": [],
   "source": [
    "last_page = response.json()['last_page']\n",
    "datas = response.json()['data']"
   ]
  },
  {
   "cell_type": "code",
   "execution_count": 5,
   "id": "1a74a64d",
   "metadata": {},
   "outputs": [
    {
     "data": {
      "text/plain": [
       "dict"
      ]
     },
     "execution_count": 5,
     "metadata": {},
     "output_type": "execute_result"
    }
   ],
   "source": [
    "type(datas)"
   ]
  },
  {
   "cell_type": "code",
   "execution_count": 6,
   "id": "9dc3c0a7",
   "metadata": {},
   "outputs": [],
   "source": [
    "datas = []\n",
    "for page in range(1, 3) :\n",
    "    url = f'https://markets.hankyung.com/api/v1/consensus/search/report?page={page}&reportType={reportType}&fromDate={fromDate}&toDate={toDate}&gradeCode={gradeCode}&changePrices={changePrices}&searchType={searchType}'\n",
    "    response = requests.get(url)\n",
    "    data = response.json()['data']\n",
    "    if type(data) == dict :\n",
    "        data = data.values()\n",
    "#     print(pd.DataFrame(data))\n",
    "    datas.append(pd.DataFrame(data))"
   ]
  },
  {
   "cell_type": "code",
   "execution_count": 7,
   "id": "51485e3b",
   "metadata": {
    "scrolled": true
   },
   "outputs": [],
   "source": [
    "df = pd.concat(datas)\n",
    "df.reset_index(inplace=True)\n",
    "df.dropna(axis=1, inplace=True)"
   ]
  },
  {
   "cell_type": "code",
   "execution_count": 8,
   "id": "5f65132c",
   "metadata": {
    "scrolled": true
   },
   "outputs": [
    {
     "data": {
      "text/html": [
       "<div>\n",
       "<style scoped>\n",
       "    .dataframe tbody tr th:only-of-type {\n",
       "        vertical-align: middle;\n",
       "    }\n",
       "\n",
       "    .dataframe tbody tr th {\n",
       "        vertical-align: top;\n",
       "    }\n",
       "\n",
       "    .dataframe thead th {\n",
       "        text-align: right;\n",
       "    }\n",
       "</style>\n",
       "<table border=\"1\" class=\"dataframe\">\n",
       "  <thead>\n",
       "    <tr style=\"text-align: right;\">\n",
       "      <th></th>\n",
       "      <th>REPORT_IDX</th>\n",
       "      <th>PUBLISH_CODE</th>\n",
       "      <th>OFFICE_NAME</th>\n",
       "      <th>INDUSTRY_CODE</th>\n",
       "      <th>INDUSTRY_NAME</th>\n",
       "      <th>REPORT_TITLE</th>\n",
       "      <th>REPORT_WRITER</th>\n",
       "      <th>REPORT_FILEPATH</th>\n",
       "      <th>REPORT_DATE</th>\n",
       "    </tr>\n",
       "  </thead>\n",
       "  <tbody>\n",
       "    <tr>\n",
       "      <th>0</th>\n",
       "      <td>610539</td>\n",
       "      <td>0015</td>\n",
       "      <td>메리츠증권</td>\n",
       "      <td>072</td>\n",
       "      <td>일반전기전자</td>\n",
       "      <td>전기전자 - 디스플레이 6월 하반월 LCD 패널가</td>\n",
       "      <td>김선우</td>\n",
       "      <td>https://markets.hankyung.com/pdf/2022/06/9f57b...</td>\n",
       "      <td>2022-06-21</td>\n",
       "    </tr>\n",
       "    <tr>\n",
       "      <th>1</th>\n",
       "      <td>610552</td>\n",
       "      <td>0012</td>\n",
       "      <td>유진투자증권</td>\n",
       "      <td></td>\n",
       "      <td></td>\n",
       "      <td>Eugene’s FICC Update (2022.6.20)</td>\n",
       "      <td>허재환, 김지나</td>\n",
       "      <td>https://markets.hankyung.com/pdf/2022/06/cfa33...</td>\n",
       "      <td>2022-06-21</td>\n",
       "    </tr>\n",
       "    <tr>\n",
       "      <th>2</th>\n",
       "      <td>610551</td>\n",
       "      <td>0012</td>\n",
       "      <td>유진투자증권</td>\n",
       "      <td></td>\n",
       "      <td></td>\n",
       "      <td>자산진단 키트 - 진격의 Fed</td>\n",
       "      <td>방인성</td>\n",
       "      <td>https://markets.hankyung.com/pdf/2022/06/d0138...</td>\n",
       "      <td>2022-06-21</td>\n",
       "    </tr>\n",
       "    <tr>\n",
       "      <th>3</th>\n",
       "      <td>610550</td>\n",
       "      <td>0029</td>\n",
       "      <td>유안타증권</td>\n",
       "      <td></td>\n",
       "      <td></td>\n",
       "      <td>선물옵션시장 지표</td>\n",
       "      <td>정인지</td>\n",
       "      <td>https://markets.hankyung.com/pdf/2022/06/ccf98...</td>\n",
       "      <td>2022-06-21</td>\n",
       "    </tr>\n",
       "    <tr>\n",
       "      <th>4</th>\n",
       "      <td>610549</td>\n",
       "      <td>4015</td>\n",
       "      <td>우리은행</td>\n",
       "      <td></td>\n",
       "      <td></td>\n",
       "      <td>Daily Forex Live 리스크 Off --&gt; On, 1,290원 하향이탈 시도</td>\n",
       "      <td>민경원, 신승연</td>\n",
       "      <td>https://markets.hankyung.com/pdf/2022/06/9735e...</td>\n",
       "      <td>2022-06-21</td>\n",
       "    </tr>\n",
       "  </tbody>\n",
       "</table>\n",
       "</div>"
      ],
      "text/plain": [
       "   REPORT_IDX PUBLISH_CODE OFFICE_NAME INDUSTRY_CODE INDUSTRY_NAME  \\\n",
       "0      610539         0015       메리츠증권           072        일반전기전자   \n",
       "1      610552         0012      유진투자증권                               \n",
       "2      610551         0012      유진투자증권                               \n",
       "3      610550         0029       유안타증권                               \n",
       "4      610549         4015        우리은행                               \n",
       "\n",
       "                                      REPORT_TITLE REPORT_WRITER  \\\n",
       "0                      전기전자 - 디스플레이 6월 하반월 LCD 패널가           김선우   \n",
       "1                 Eugene’s FICC Update (2022.6.20)      허재환, 김지나   \n",
       "2                                자산진단 키트 - 진격의 Fed           방인성   \n",
       "3                                        선물옵션시장 지표           정인지   \n",
       "4  Daily Forex Live 리스크 Off --> On, 1,290원 하향이탈 시도      민경원, 신승연   \n",
       "\n",
       "                                     REPORT_FILEPATH REPORT_DATE  \n",
       "0  https://markets.hankyung.com/pdf/2022/06/9f57b...  2022-06-21  \n",
       "1  https://markets.hankyung.com/pdf/2022/06/cfa33...  2022-06-21  \n",
       "2  https://markets.hankyung.com/pdf/2022/06/d0138...  2022-06-21  \n",
       "3  https://markets.hankyung.com/pdf/2022/06/ccf98...  2022-06-21  \n",
       "4  https://markets.hankyung.com/pdf/2022/06/9735e...  2022-06-21  "
      ]
     },
     "execution_count": 8,
     "metadata": {},
     "output_type": "execute_result"
    }
   ],
   "source": [
    "# 필요한 데이터 : REPORT_IDX, PUBLISH_CODE, OFFICE_NAME, INDUSTRY_CODE, INDUSTRY_NAME, REPORT_TITLE, REPORT_WRITER, REPORT_FILEPATH, REPORT_DATE\n",
    "result_df = df[['REPORT_IDX', 'PUBLISH_CODE', 'OFFICE_NAME', 'INDUSTRY_CODE', 'INDUSTRY_NAME', 'REPORT_TITLE', 'REPORT_WRITER', 'REPORT_FILEPATH', 'REPORT_DATE']]\n",
    "result_df.head()"
   ]
  },
  {
   "cell_type": "markdown",
   "id": "b1c4f8d4",
   "metadata": {},
   "source": [
    "### 함수화"
   ]
  },
  {
   "cell_type": "code",
   "execution_count": 9,
   "id": "6e41e72c",
   "metadata": {},
   "outputs": [],
   "source": [
    "# 크롤링을 위한 함수화\n",
    "def hankyung_data(fromDate, toDate, reportType='ALL', gradeCode='ALL',changePrices='ALL',searchType='ALL') :\n",
    "    url = f'https://markets.hankyung.com/api/v1/consensus/search/report?page=1&reportType={reportType}&fromDate={fromDate}&toDate={toDate}&gradeCode={gradeCode}&changePrices={changePrices}&searchType={searchType}'\n",
    "    response = requests.get(url)\n",
    "    last_page = response.json()['last_page']\n",
    "    datas = []\n",
    "    for page in range(1, last_page+1) :\n",
    "        url = f'https://markets.hankyung.com/api/v1/consensus/search/report?page={page}&reportType={reportType}&fromDate={fromDate}&toDate={toDate}&gradeCode={gradeCode}&changePrices={changePrices}&searchType={searchType}'\n",
    "        response = requests.get(url)\n",
    "        data = response.json()['data']\n",
    "        if type(data) == dict :\n",
    "            data = data.values()\n",
    "        datas.append(pd.DataFrame(data))\n",
    "    df = pd.concat(datas)\n",
    "    df.reset_index(inplace=True)\n",
    "    df.dropna(axis=1, inplace=True)\n",
    "    result_df = df[['REPORT_IDX', 'PUBLISH_CODE', 'OFFICE_NAME', 'INDUSTRY_CODE', 'INDUSTRY_NAME', 'REPORT_TITLE', 'REPORT_WRITER', 'REPORT_FILEPATH', 'REPORT_DATE']]\n",
    "    \n",
    "    return result_df"
   ]
  },
  {
   "cell_type": "code",
   "execution_count": 10,
   "id": "1f531883",
   "metadata": {},
   "outputs": [
    {
     "data": {
      "text/plain": [
       "1958"
      ]
     },
     "execution_count": 10,
     "metadata": {},
     "output_type": "execute_result"
    }
   ],
   "source": [
    "df = hankyung_data('2022-05-21', '2022-06-21')\n",
    "len(df)"
   ]
  },
  {
   "cell_type": "markdown",
   "id": "a73453b5",
   "metadata": {},
   "source": [
    "## 데이터 다운로드 후 OCR 데이터 확인"
   ]
  },
  {
   "cell_type": "code",
   "execution_count": null,
   "id": "afd2b66a",
   "metadata": {},
   "outputs": [],
   "source": [
    "# 인터넷 pdf 파일 저장\n",
    "import requests\n",
    "URL = \"https://markets.hankyung.com/pdf/2022/06/9f57b436d1977954380a7ee69c552170\"\n",
    "  \n",
    "file = requests.get(URL, stream = True)\n",
    "  \n",
    "with open(\"Python.pdf\",\"wb\") as pdf:\n",
    "    for chunk in file.iter_content(chunk_size=1024):\n",
    "        if chunk:\n",
    "            pdf.write(chunk)"
   ]
  }
 ],
 "metadata": {
  "kernelspec": {
   "display_name": "Python 3 (ipykernel)",
   "language": "python",
   "name": "python3"
  },
  "language_info": {
   "codemirror_mode": {
    "name": "ipython",
    "version": 3
   },
   "file_extension": ".py",
   "mimetype": "text/x-python",
   "name": "python",
   "nbconvert_exporter": "python",
   "pygments_lexer": "ipython3",
   "version": "3.9.7"
  }
 },
 "nbformat": 4,
 "nbformat_minor": 5
}
